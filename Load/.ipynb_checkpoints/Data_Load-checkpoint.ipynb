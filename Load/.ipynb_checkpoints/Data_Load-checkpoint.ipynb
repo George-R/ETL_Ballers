{
 "cells": [
  {
   "cell_type": "code",
   "execution_count": 1,
   "metadata": {},
   "outputs": [],
   "source": [
    "import pymongo\n",
    "import pandas as pd\n",
    "import json"
   ]
  },
  {
   "cell_type": "code",
   "execution_count": 2,
   "metadata": {},
   "outputs": [],
   "source": [
    "# Initialize PyMongo to work with MongoDBs\n",
    "conn = 'mongodb://localhost:27017'\n",
    "client = pymongo.MongoClient(conn)"
   ]
  },
  {
   "cell_type": "code",
   "execution_count": 3,
   "metadata": {},
   "outputs": [],
   "source": [
    "# Define database and collection\n",
    "db = client['Proj2_NBA_db']\n",
    "#collection = db['PlayaPerGameStats']"
   ]
  },
  {
   "cell_type": "markdown",
   "metadata": {},
   "source": [
    "## Players per game stats"
   ]
  },
  {
   "cell_type": "code",
   "execution_count": 4,
   "metadata": {},
   "outputs": [],
   "source": [
    "pStats = pd.read_json('../Transform/clean_data/player_per_game_stats_clean.json')"
   ]
  },
  {
   "cell_type": "code",
   "execution_count": 5,
   "metadata": {},
   "outputs": [],
   "source": [
    "# load pStats into mongodb collection\n",
    "data_dict = pStats.to_dict(\"records\")\n",
    "\n",
    "# Insert collection\n",
    "collection.insert_many(data_dict)"
   ]
  },
  {
   "cell_type": "code",
   "execution_count": 6,
   "metadata": {},
   "outputs": [],
   "source": [
    "# load database in mongodb\n",
    "db.Proj2_NBA_db"
   ]
  },
  {
   "cell_type": "markdown",
   "metadata": {},
   "source": [
    "## GOAT stats table"
   ]
  },
  {
   "cell_type": "code",
   "execution_count": 12,
   "metadata": {},
   "outputs": [],
   "source": [
    "collection = db['GOATStats']"
   ]
  },
  {
   "cell_type": "code",
   "execution_count": 36,
   "metadata": {},
   "outputs": [
    {
     "data": {
      "text/html": [
       "<div>\n",
       "<style scoped>\n",
       "    .dataframe tbody tr th:only-of-type {\n",
       "        vertical-align: middle;\n",
       "    }\n",
       "\n",
       "    .dataframe tbody tr th {\n",
       "        vertical-align: top;\n",
       "    }\n",
       "\n",
       "    .dataframe thead th {\n",
       "        text-align: right;\n",
       "    }\n",
       "</style>\n",
       "<table border=\"1\" class=\"dataframe\">\n",
       "  <thead>\n",
       "    <tr style=\"text-align: right;\">\n",
       "      <th></th>\n",
       "      <th>Unnamed: 0</th>\n",
       "      <th>Unnamed: 0.1</th>\n",
       "      <th>name</th>\n",
       "      <th>Player_ID</th>\n",
       "      <th>MATCHUP</th>\n",
       "      <th>WL</th>\n",
       "      <th>FG3_PCT</th>\n",
       "      <th>FGM</th>\n",
       "      <th>FTM</th>\n",
       "      <th>MIN</th>\n",
       "      <th>REB</th>\n",
       "      <th>AST</th>\n",
       "      <th>PTS</th>\n",
       "      <th>BLK</th>\n",
       "      <th>STL</th>\n",
       "    </tr>\n",
       "  </thead>\n",
       "  <tbody>\n",
       "    <tr>\n",
       "      <th>0</th>\n",
       "      <td>0</td>\n",
       "      <td>0</td>\n",
       "      <td>Bill Russel</td>\n",
       "      <td>78049</td>\n",
       "      <td>BOS @ LAL</td>\n",
       "      <td>W</td>\n",
       "      <td>0.00</td>\n",
       "      <td>2</td>\n",
       "      <td>2</td>\n",
       "      <td>48</td>\n",
       "      <td>21</td>\n",
       "      <td>6.0</td>\n",
       "      <td>6</td>\n",
       "      <td>0.0</td>\n",
       "      <td>0.0</td>\n",
       "    </tr>\n",
       "    <tr>\n",
       "      <th>1</th>\n",
       "      <td>1</td>\n",
       "      <td>1</td>\n",
       "      <td>Bill Russel</td>\n",
       "      <td>78049</td>\n",
       "      <td>BOS vs. LAL</td>\n",
       "      <td>W</td>\n",
       "      <td>0.00</td>\n",
       "      <td>3</td>\n",
       "      <td>3</td>\n",
       "      <td>48</td>\n",
       "      <td>19</td>\n",
       "      <td>2.0</td>\n",
       "      <td>9</td>\n",
       "      <td>0.0</td>\n",
       "      <td>0.0</td>\n",
       "    </tr>\n",
       "    <tr>\n",
       "      <th>2</th>\n",
       "      <td>2</td>\n",
       "      <td>2</td>\n",
       "      <td>Bill Russel</td>\n",
       "      <td>78049</td>\n",
       "      <td>BOS @ LAL</td>\n",
       "      <td>L</td>\n",
       "      <td>0.00</td>\n",
       "      <td>3</td>\n",
       "      <td>1</td>\n",
       "      <td>48</td>\n",
       "      <td>13</td>\n",
       "      <td>5.0</td>\n",
       "      <td>7</td>\n",
       "      <td>0.0</td>\n",
       "      <td>0.0</td>\n",
       "    </tr>\n",
       "    <tr>\n",
       "      <th>3</th>\n",
       "      <td>3</td>\n",
       "      <td>3</td>\n",
       "      <td>Bill Russel</td>\n",
       "      <td>78049</td>\n",
       "      <td>BOS vs. LAL</td>\n",
       "      <td>W</td>\n",
       "      <td>0.00</td>\n",
       "      <td>2</td>\n",
       "      <td>2</td>\n",
       "      <td>48</td>\n",
       "      <td>29</td>\n",
       "      <td>2.0</td>\n",
       "      <td>6</td>\n",
       "      <td>0.0</td>\n",
       "      <td>0.0</td>\n",
       "    </tr>\n",
       "    <tr>\n",
       "      <th>4</th>\n",
       "      <td>4</td>\n",
       "      <td>4</td>\n",
       "      <td>Bill Russel</td>\n",
       "      <td>78049</td>\n",
       "      <td>BOS vs. LAL</td>\n",
       "      <td>W</td>\n",
       "      <td>0.00</td>\n",
       "      <td>5</td>\n",
       "      <td>1</td>\n",
       "      <td>48</td>\n",
       "      <td>18</td>\n",
       "      <td>3.0</td>\n",
       "      <td>11</td>\n",
       "      <td>0.0</td>\n",
       "      <td>0.0</td>\n",
       "    </tr>\n",
       "    <tr>\n",
       "      <th>...</th>\n",
       "      <td>...</td>\n",
       "      <td>...</td>\n",
       "      <td>...</td>\n",
       "      <td>...</td>\n",
       "      <td>...</td>\n",
       "      <td>...</td>\n",
       "      <td>...</td>\n",
       "      <td>...</td>\n",
       "      <td>...</td>\n",
       "      <td>...</td>\n",
       "      <td>...</td>\n",
       "      <td>...</td>\n",
       "      <td>...</td>\n",
       "      <td>...</td>\n",
       "      <td>...</td>\n",
       "    </tr>\n",
       "    <tr>\n",
       "      <th>2369</th>\n",
       "      <td>2369</td>\n",
       "      <td>119</td>\n",
       "      <td>Kawhi Leonard</td>\n",
       "      <td>202695</td>\n",
       "      <td>SAS vs. LAC</td>\n",
       "      <td>W</td>\n",
       "      <td>1.00</td>\n",
       "      <td>5</td>\n",
       "      <td>3</td>\n",
       "      <td>28</td>\n",
       "      <td>6</td>\n",
       "      <td>1.0</td>\n",
       "      <td>16</td>\n",
       "      <td>1.0</td>\n",
       "      <td>3.0</td>\n",
       "    </tr>\n",
       "    <tr>\n",
       "      <th>2370</th>\n",
       "      <td>2370</td>\n",
       "      <td>120</td>\n",
       "      <td>Kawhi Leonard</td>\n",
       "      <td>202695</td>\n",
       "      <td>SAS @ UTA</td>\n",
       "      <td>W</td>\n",
       "      <td>0.50</td>\n",
       "      <td>1</td>\n",
       "      <td>0</td>\n",
       "      <td>20</td>\n",
       "      <td>5</td>\n",
       "      <td>0.0</td>\n",
       "      <td>3</td>\n",
       "      <td>0.0</td>\n",
       "      <td>0.0</td>\n",
       "    </tr>\n",
       "    <tr>\n",
       "      <th>2371</th>\n",
       "      <td>2371</td>\n",
       "      <td>121</td>\n",
       "      <td>Kawhi Leonard</td>\n",
       "      <td>202695</td>\n",
       "      <td>SAS @ UTA</td>\n",
       "      <td>W</td>\n",
       "      <td>0.00</td>\n",
       "      <td>1</td>\n",
       "      <td>0</td>\n",
       "      <td>15</td>\n",
       "      <td>3</td>\n",
       "      <td>0.0</td>\n",
       "      <td>2</td>\n",
       "      <td>0.0</td>\n",
       "      <td>0.0</td>\n",
       "    </tr>\n",
       "    <tr>\n",
       "      <th>2372</th>\n",
       "      <td>2372</td>\n",
       "      <td>122</td>\n",
       "      <td>Kawhi Leonard</td>\n",
       "      <td>202695</td>\n",
       "      <td>SAS vs. UTA</td>\n",
       "      <td>W</td>\n",
       "      <td>0.75</td>\n",
       "      <td>6</td>\n",
       "      <td>2</td>\n",
       "      <td>25</td>\n",
       "      <td>3</td>\n",
       "      <td>1.0</td>\n",
       "      <td>17</td>\n",
       "      <td>0.0</td>\n",
       "      <td>2.0</td>\n",
       "    </tr>\n",
       "    <tr>\n",
       "      <th>2373</th>\n",
       "      <td>2373</td>\n",
       "      <td>123</td>\n",
       "      <td>Kawhi Leonard</td>\n",
       "      <td>202695</td>\n",
       "      <td>SAS vs. UTA</td>\n",
       "      <td>W</td>\n",
       "      <td>0.00</td>\n",
       "      <td>2</td>\n",
       "      <td>2</td>\n",
       "      <td>20</td>\n",
       "      <td>2</td>\n",
       "      <td>1.0</td>\n",
       "      <td>6</td>\n",
       "      <td>0.0</td>\n",
       "      <td>2.0</td>\n",
       "    </tr>\n",
       "  </tbody>\n",
       "</table>\n",
       "<p>2374 rows × 15 columns</p>\n",
       "</div>"
      ],
      "text/plain": [
       "      Unnamed: 0  Unnamed: 0.1           name  Player_ID      MATCHUP WL  \\\n",
       "0              0             0    Bill Russel      78049    BOS @ LAL  W   \n",
       "1              1             1    Bill Russel      78049  BOS vs. LAL  W   \n",
       "2              2             2    Bill Russel      78049    BOS @ LAL  L   \n",
       "3              3             3    Bill Russel      78049  BOS vs. LAL  W   \n",
       "4              4             4    Bill Russel      78049  BOS vs. LAL  W   \n",
       "...          ...           ...            ...        ...          ... ..   \n",
       "2369        2369           119  Kawhi Leonard     202695  SAS vs. LAC  W   \n",
       "2370        2370           120  Kawhi Leonard     202695    SAS @ UTA  W   \n",
       "2371        2371           121  Kawhi Leonard     202695    SAS @ UTA  W   \n",
       "2372        2372           122  Kawhi Leonard     202695  SAS vs. UTA  W   \n",
       "2373        2373           123  Kawhi Leonard     202695  SAS vs. UTA  W   \n",
       "\n",
       "      FG3_PCT  FGM  FTM  MIN  REB  AST  PTS  BLK  STL  \n",
       "0        0.00    2    2   48   21  6.0    6  0.0  0.0  \n",
       "1        0.00    3    3   48   19  2.0    9  0.0  0.0  \n",
       "2        0.00    3    1   48   13  5.0    7  0.0  0.0  \n",
       "3        0.00    2    2   48   29  2.0    6  0.0  0.0  \n",
       "4        0.00    5    1   48   18  3.0   11  0.0  0.0  \n",
       "...       ...  ...  ...  ...  ...  ...  ...  ...  ...  \n",
       "2369     1.00    5    3   28    6  1.0   16  1.0  3.0  \n",
       "2370     0.50    1    0   20    5  0.0    3  0.0  0.0  \n",
       "2371     0.00    1    0   15    3  0.0    2  0.0  0.0  \n",
       "2372     0.75    6    2   25    3  1.0   17  0.0  2.0  \n",
       "2373     0.00    2    2   20    2  1.0    6  0.0  2.0  \n",
       "\n",
       "[2374 rows x 15 columns]"
      ]
     },
     "execution_count": 36,
     "metadata": {},
     "output_type": "execute_result"
    }
   ],
   "source": [
    "gStats = pd.read_csv('../Transform/clean_data/GOAT_playoffs_games.csv')\n",
    "gStats"
   ]
  },
  {
   "cell_type": "code",
   "execution_count": 40,
   "metadata": {},
   "outputs": [],
   "source": [
    "# delete columns 'Unnamed: 0' and 'Unnamed: 0.1'\n",
    "del gStats['Unnamed: 0.1']"
   ]
  },
  {
   "cell_type": "code",
   "execution_count": 41,
   "metadata": {},
   "outputs": [
    {
     "data": {
      "text/html": [
       "<div>\n",
       "<style scoped>\n",
       "    .dataframe tbody tr th:only-of-type {\n",
       "        vertical-align: middle;\n",
       "    }\n",
       "\n",
       "    .dataframe tbody tr th {\n",
       "        vertical-align: top;\n",
       "    }\n",
       "\n",
       "    .dataframe thead th {\n",
       "        text-align: right;\n",
       "    }\n",
       "</style>\n",
       "<table border=\"1\" class=\"dataframe\">\n",
       "  <thead>\n",
       "    <tr style=\"text-align: right;\">\n",
       "      <th></th>\n",
       "      <th>name</th>\n",
       "      <th>Player_ID</th>\n",
       "      <th>MATCHUP</th>\n",
       "      <th>WL</th>\n",
       "      <th>FG3_PCT</th>\n",
       "      <th>FGM</th>\n",
       "      <th>FTM</th>\n",
       "      <th>MIN</th>\n",
       "      <th>REB</th>\n",
       "      <th>AST</th>\n",
       "      <th>PTS</th>\n",
       "      <th>BLK</th>\n",
       "      <th>STL</th>\n",
       "    </tr>\n",
       "  </thead>\n",
       "  <tbody>\n",
       "    <tr>\n",
       "      <th>0</th>\n",
       "      <td>Bill Russel</td>\n",
       "      <td>78049</td>\n",
       "      <td>BOS @ LAL</td>\n",
       "      <td>W</td>\n",
       "      <td>0.00</td>\n",
       "      <td>2</td>\n",
       "      <td>2</td>\n",
       "      <td>48</td>\n",
       "      <td>21</td>\n",
       "      <td>6.0</td>\n",
       "      <td>6</td>\n",
       "      <td>0.0</td>\n",
       "      <td>0.0</td>\n",
       "    </tr>\n",
       "    <tr>\n",
       "      <th>1</th>\n",
       "      <td>Bill Russel</td>\n",
       "      <td>78049</td>\n",
       "      <td>BOS vs. LAL</td>\n",
       "      <td>W</td>\n",
       "      <td>0.00</td>\n",
       "      <td>3</td>\n",
       "      <td>3</td>\n",
       "      <td>48</td>\n",
       "      <td>19</td>\n",
       "      <td>2.0</td>\n",
       "      <td>9</td>\n",
       "      <td>0.0</td>\n",
       "      <td>0.0</td>\n",
       "    </tr>\n",
       "    <tr>\n",
       "      <th>2</th>\n",
       "      <td>Bill Russel</td>\n",
       "      <td>78049</td>\n",
       "      <td>BOS @ LAL</td>\n",
       "      <td>L</td>\n",
       "      <td>0.00</td>\n",
       "      <td>3</td>\n",
       "      <td>1</td>\n",
       "      <td>48</td>\n",
       "      <td>13</td>\n",
       "      <td>5.0</td>\n",
       "      <td>7</td>\n",
       "      <td>0.0</td>\n",
       "      <td>0.0</td>\n",
       "    </tr>\n",
       "    <tr>\n",
       "      <th>3</th>\n",
       "      <td>Bill Russel</td>\n",
       "      <td>78049</td>\n",
       "      <td>BOS vs. LAL</td>\n",
       "      <td>W</td>\n",
       "      <td>0.00</td>\n",
       "      <td>2</td>\n",
       "      <td>2</td>\n",
       "      <td>48</td>\n",
       "      <td>29</td>\n",
       "      <td>2.0</td>\n",
       "      <td>6</td>\n",
       "      <td>0.0</td>\n",
       "      <td>0.0</td>\n",
       "    </tr>\n",
       "    <tr>\n",
       "      <th>4</th>\n",
       "      <td>Bill Russel</td>\n",
       "      <td>78049</td>\n",
       "      <td>BOS vs. LAL</td>\n",
       "      <td>W</td>\n",
       "      <td>0.00</td>\n",
       "      <td>5</td>\n",
       "      <td>1</td>\n",
       "      <td>48</td>\n",
       "      <td>18</td>\n",
       "      <td>3.0</td>\n",
       "      <td>11</td>\n",
       "      <td>0.0</td>\n",
       "      <td>0.0</td>\n",
       "    </tr>\n",
       "    <tr>\n",
       "      <th>...</th>\n",
       "      <td>...</td>\n",
       "      <td>...</td>\n",
       "      <td>...</td>\n",
       "      <td>...</td>\n",
       "      <td>...</td>\n",
       "      <td>...</td>\n",
       "      <td>...</td>\n",
       "      <td>...</td>\n",
       "      <td>...</td>\n",
       "      <td>...</td>\n",
       "      <td>...</td>\n",
       "      <td>...</td>\n",
       "      <td>...</td>\n",
       "    </tr>\n",
       "    <tr>\n",
       "      <th>2369</th>\n",
       "      <td>Kawhi Leonard</td>\n",
       "      <td>202695</td>\n",
       "      <td>SAS vs. LAC</td>\n",
       "      <td>W</td>\n",
       "      <td>1.00</td>\n",
       "      <td>5</td>\n",
       "      <td>3</td>\n",
       "      <td>28</td>\n",
       "      <td>6</td>\n",
       "      <td>1.0</td>\n",
       "      <td>16</td>\n",
       "      <td>1.0</td>\n",
       "      <td>3.0</td>\n",
       "    </tr>\n",
       "    <tr>\n",
       "      <th>2370</th>\n",
       "      <td>Kawhi Leonard</td>\n",
       "      <td>202695</td>\n",
       "      <td>SAS @ UTA</td>\n",
       "      <td>W</td>\n",
       "      <td>0.50</td>\n",
       "      <td>1</td>\n",
       "      <td>0</td>\n",
       "      <td>20</td>\n",
       "      <td>5</td>\n",
       "      <td>0.0</td>\n",
       "      <td>3</td>\n",
       "      <td>0.0</td>\n",
       "      <td>0.0</td>\n",
       "    </tr>\n",
       "    <tr>\n",
       "      <th>2371</th>\n",
       "      <td>Kawhi Leonard</td>\n",
       "      <td>202695</td>\n",
       "      <td>SAS @ UTA</td>\n",
       "      <td>W</td>\n",
       "      <td>0.00</td>\n",
       "      <td>1</td>\n",
       "      <td>0</td>\n",
       "      <td>15</td>\n",
       "      <td>3</td>\n",
       "      <td>0.0</td>\n",
       "      <td>2</td>\n",
       "      <td>0.0</td>\n",
       "      <td>0.0</td>\n",
       "    </tr>\n",
       "    <tr>\n",
       "      <th>2372</th>\n",
       "      <td>Kawhi Leonard</td>\n",
       "      <td>202695</td>\n",
       "      <td>SAS vs. UTA</td>\n",
       "      <td>W</td>\n",
       "      <td>0.75</td>\n",
       "      <td>6</td>\n",
       "      <td>2</td>\n",
       "      <td>25</td>\n",
       "      <td>3</td>\n",
       "      <td>1.0</td>\n",
       "      <td>17</td>\n",
       "      <td>0.0</td>\n",
       "      <td>2.0</td>\n",
       "    </tr>\n",
       "    <tr>\n",
       "      <th>2373</th>\n",
       "      <td>Kawhi Leonard</td>\n",
       "      <td>202695</td>\n",
       "      <td>SAS vs. UTA</td>\n",
       "      <td>W</td>\n",
       "      <td>0.00</td>\n",
       "      <td>2</td>\n",
       "      <td>2</td>\n",
       "      <td>20</td>\n",
       "      <td>2</td>\n",
       "      <td>1.0</td>\n",
       "      <td>6</td>\n",
       "      <td>0.0</td>\n",
       "      <td>2.0</td>\n",
       "    </tr>\n",
       "  </tbody>\n",
       "</table>\n",
       "<p>2374 rows × 13 columns</p>\n",
       "</div>"
      ],
      "text/plain": [
       "               name  Player_ID      MATCHUP WL  FG3_PCT  FGM  FTM  MIN  REB  \\\n",
       "0       Bill Russel      78049    BOS @ LAL  W     0.00    2    2   48   21   \n",
       "1       Bill Russel      78049  BOS vs. LAL  W     0.00    3    3   48   19   \n",
       "2       Bill Russel      78049    BOS @ LAL  L     0.00    3    1   48   13   \n",
       "3       Bill Russel      78049  BOS vs. LAL  W     0.00    2    2   48   29   \n",
       "4       Bill Russel      78049  BOS vs. LAL  W     0.00    5    1   48   18   \n",
       "...             ...        ...          ... ..      ...  ...  ...  ...  ...   \n",
       "2369  Kawhi Leonard     202695  SAS vs. LAC  W     1.00    5    3   28    6   \n",
       "2370  Kawhi Leonard     202695    SAS @ UTA  W     0.50    1    0   20    5   \n",
       "2371  Kawhi Leonard     202695    SAS @ UTA  W     0.00    1    0   15    3   \n",
       "2372  Kawhi Leonard     202695  SAS vs. UTA  W     0.75    6    2   25    3   \n",
       "2373  Kawhi Leonard     202695  SAS vs. UTA  W     0.00    2    2   20    2   \n",
       "\n",
       "      AST  PTS  BLK  STL  \n",
       "0     6.0    6  0.0  0.0  \n",
       "1     2.0    9  0.0  0.0  \n",
       "2     5.0    7  0.0  0.0  \n",
       "3     2.0    6  0.0  0.0  \n",
       "4     3.0   11  0.0  0.0  \n",
       "...   ...  ...  ...  ...  \n",
       "2369  1.0   16  1.0  3.0  \n",
       "2370  0.0    3  0.0  0.0  \n",
       "2371  0.0    2  0.0  0.0  \n",
       "2372  1.0   17  0.0  2.0  \n",
       "2373  1.0    6  0.0  2.0  \n",
       "\n",
       "[2374 rows x 13 columns]"
      ]
     },
     "execution_count": 41,
     "metadata": {},
     "output_type": "execute_result"
    }
   ],
   "source": [
    "gStats"
   ]
  },
  {
   "cell_type": "code",
   "execution_count": 42,
   "metadata": {},
   "outputs": [
    {
     "data": {
      "text/plain": [
       "<pymongo.results.InsertManyResult at 0x21172ee4c40>"
      ]
     },
     "execution_count": 42,
     "metadata": {},
     "output_type": "execute_result"
    }
   ],
   "source": [
    "# load gStats into mongodb collection\n",
    "data_dict = gStats.to_dict(\"records\")\n",
    "\n",
    "# Insert collection\n",
    "collection.insert_many(data_dict)"
   ]
  },
  {
   "cell_type": "markdown",
   "metadata": {},
   "source": [
    "## Season stats table"
   ]
  },
  {
   "cell_type": "code",
   "execution_count": 43,
   "metadata": {},
   "outputs": [],
   "source": [
    "collection = db['SeasonStats']"
   ]
  },
  {
   "cell_type": "code",
   "execution_count": 44,
   "metadata": {},
   "outputs": [],
   "source": [
    "sStats = pd.read_csv('../Transform/clean_data/nba_season_data.csv')"
   ]
  },
  {
   "cell_type": "code",
   "execution_count": 45,
   "metadata": {},
   "outputs": [
    {
     "data": {
      "text/plain": [
       "<pymongo.results.InsertManyResult at 0x21172c65400>"
      ]
     },
     "execution_count": 45,
     "metadata": {},
     "output_type": "execute_result"
    }
   ],
   "source": [
    "# load sStats into mongodb collection\n",
    "data_dict = sStats.to_dict(\"records\")\n",
    "\n",
    "# Insert collection\n",
    "collection.insert_many(data_dict)"
   ]
  },
  {
   "cell_type": "markdown",
   "metadata": {},
   "source": [
    "## Teams Table"
   ]
  },
  {
   "cell_type": "code",
   "execution_count": 46,
   "metadata": {},
   "outputs": [],
   "source": [
    "collection = db['Teams']"
   ]
  },
  {
   "cell_type": "code",
   "execution_count": 47,
   "metadata": {},
   "outputs": [],
   "source": [
    "vStats = pd.read_csv('../Transform/clean_data/Teams.csv')"
   ]
  },
  {
   "cell_type": "code",
   "execution_count": 48,
   "metadata": {},
   "outputs": [
    {
     "data": {
      "text/plain": [
       "<pymongo.results.InsertManyResult at 0x21172ece6c0>"
      ]
     },
     "execution_count": 48,
     "metadata": {},
     "output_type": "execute_result"
    }
   ],
   "source": [
    "# load vStats into mongodb collection\n",
    "data_dict = vStats.to_dict(\"records\")\n",
    "\n",
    "# Insert collection\n",
    "collection.insert_many(data_dict)"
   ]
  },
  {
   "cell_type": "markdown",
   "metadata": {},
   "source": [
    "## Player Information Table"
   ]
  },
  {
   "cell_type": "code",
   "execution_count": 49,
   "metadata": {},
   "outputs": [],
   "source": [
    "collection = db['Player_info']"
   ]
  },
  {
   "cell_type": "code",
   "execution_count": 50,
   "metadata": {},
   "outputs": [],
   "source": [
    "zStats = pd.read_csv('../Transform/clean_data/Player_Info.csv')"
   ]
  },
  {
   "cell_type": "code",
   "execution_count": 51,
   "metadata": {},
   "outputs": [
    {
     "data": {
      "text/plain": [
       "<pymongo.results.InsertManyResult at 0x21172bb8ec0>"
      ]
     },
     "execution_count": 51,
     "metadata": {},
     "output_type": "execute_result"
    }
   ],
   "source": [
    "# load zStats into mongodb collection\n",
    "data_dict = zStats.to_dict(\"records\")\n",
    "\n",
    "# Insert collection\n",
    "collection.insert_many(data_dict)"
   ]
  },
  {
   "cell_type": "markdown",
   "metadata": {},
   "source": [
    "## Team Stats"
   ]
  },
  {
   "cell_type": "code",
   "execution_count": 4,
   "metadata": {},
   "outputs": [],
   "source": [
    "collection = db['Team_Stats']"
   ]
  },
  {
   "cell_type": "code",
   "execution_count": 5,
   "metadata": {},
   "outputs": [],
   "source": [
    "tStats = pd.read_csv('../Transform/clean_data/Team_Stats.csv')"
   ]
  },
  {
   "cell_type": "code",
   "execution_count": 6,
   "metadata": {},
   "outputs": [
    {
     "data": {
      "text/plain": [
       "<pymongo.results.InsertManyResult at 0x29e72e6f940>"
      ]
     },
     "execution_count": 6,
     "metadata": {},
     "output_type": "execute_result"
    }
   ],
   "source": [
    "# load pStats into mongodb collection\n",
    "data_dict = tStats.to_dict(\"records\")\n",
    "\n",
    "# Insert collection\n",
    "collection.insert_many(data_dict)"
   ]
  },
  {
   "cell_type": "markdown",
   "metadata": {},
   "source": [
    "## check loaded collections"
   ]
  },
  {
   "cell_type": "code",
   "execution_count": 52,
   "metadata": {},
   "outputs": [],
   "source": [
    "## load db from mongodb\n",
    "# Checkdb = client.Proj2_NBA_db"
   ]
  },
  {
   "cell_type": "code",
   "execution_count": 53,
   "metadata": {},
   "outputs": [],
   "source": [
    "## load collection in mongodb\n",
    "#checkDF = db.PlayaPerGameStats.find()"
   ]
  },
  {
   "cell_type": "code",
   "execution_count": 55,
   "metadata": {},
   "outputs": [],
   "source": [
    "## print df\n",
    "# for checkDFs in checkDF:\n",
    "#     print(checkDFs)"
   ]
  },
  {
   "cell_type": "code",
   "execution_count": null,
   "metadata": {},
   "outputs": [],
   "source": []
  }
 ],
 "metadata": {
  "kernelspec": {
   "display_name": "Python 3",
   "language": "python",
   "name": "python3"
  },
  "language_info": {
   "codemirror_mode": {
    "name": "ipython",
    "version": 3
   },
   "file_extension": ".py",
   "mimetype": "text/x-python",
   "name": "python",
   "nbconvert_exporter": "python",
   "pygments_lexer": "ipython3",
   "version": "3.8.3"
  }
 },
 "nbformat": 4,
 "nbformat_minor": 4
}
