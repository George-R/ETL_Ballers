{
 "cells": [
  {
   "cell_type": "code",
   "execution_count": 1,
   "metadata": {},
   "outputs": [],
   "source": [
    "from basketball_reference_scraper.teams import get_roster, get_team_stats, get_opp_stats, get_roster_stats, get_team_misc"
   ]
  },
  {
   "cell_type": "code",
   "execution_count": 50,
   "metadata": {},
   "outputs": [],
   "source": [
    "f=open(\"Team_Name.txt\",\"r\")\n",
    "lines=f.readlines()\n",
    "teamlist=[]\n",
    "for x in lines:\n",
    "    teamlist.append(x.split(':')[1])\n",
    "f.close()"
   ]
  },
  {
   "cell_type": "code",
   "execution_count": 53,
   "metadata": {},
   "outputs": [],
   "source": [
    "clean_teamlist = list(map(lambda each:each.strip(\"\\n\"), teamlist))"
   ]
  },
  {
   "cell_type": "code",
   "execution_count": 54,
   "metadata": {},
   "outputs": [
    {
     "data": {
      "text/plain": [
       "[' ATL',\n",
       " ' SLH',\n",
       " ' MIL',\n",
       " ' TCB',\n",
       " ' BOS',\n",
       " ' BRK',\n",
       " ' NJN',\n",
       " ' CHI',\n",
       " ' CHH',\n",
       " ' CHO',\n",
       " ' CHA',\n",
       " ' CLE',\n",
       " ' DAL',\n",
       " ' DEN',\n",
       " ' DET',\n",
       " ' FWP',\n",
       " ' GSW',\n",
       " ' SFW',\n",
       " ' PHI',\n",
       " ' HOU',\n",
       " ' IND',\n",
       " ' LAC',\n",
       " ' SDC',\n",
       " ' BUF',\n",
       " ' LAL',\n",
       " ' MIN',\n",
       " ' MEM',\n",
       " ' VAN',\n",
       " ' MIA',\n",
       " ' MIL',\n",
       " ' MIN',\n",
       " ' NOP',\n",
       " ' NOK',\n",
       " ' NOH',\n",
       " ' NYK',\n",
       " ' OKC',\n",
       " ' SEA',\n",
       " ' ORL',\n",
       " ' PHI',\n",
       " ' SYR',\n",
       " ' PHO',\n",
       " ' POR',\n",
       " ' SAC',\n",
       " ' KCK',\n",
       " ' KCK',\n",
       " ' CIN',\n",
       " ' ROR',\n",
       " ' SAS',\n",
       " ' TOR',\n",
       " ' UTA',\n",
       " ' NOJ',\n",
       " ' WAS',\n",
       " ' WAS',\n",
       " ' CAP',\n",
       " ' BAL',\n",
       " ' CHI',\n",
       " ' CHI',\n",
       " ' AND',\n",
       " ' CHI',\n",
       " ' IND',\n",
       " ' SRS',\n",
       " ' SLB',\n",
       " ' WAS',\n",
       " ' WAT']"
      ]
     },
     "execution_count": 54,
     "metadata": {},
     "output_type": "execute_result"
    }
   ],
   "source": [
    "clean_teamlist"
   ]
  },
  {
   "cell_type": "code",
   "execution_count": null,
   "metadata": {},
   "outputs": [],
   "source": []
  }
 ],
 "metadata": {
  "kernelspec": {
   "display_name": "Python 3",
   "language": "python",
   "name": "python3"
  },
  "language_info": {
   "codemirror_mode": {
    "name": "ipython",
    "version": 3
   },
   "file_extension": ".py",
   "mimetype": "text/x-python",
   "name": "python",
   "nbconvert_exporter": "python",
   "pygments_lexer": "ipython3",
   "version": "3.7.6"
  }
 },
 "nbformat": 4,
 "nbformat_minor": 4
}
