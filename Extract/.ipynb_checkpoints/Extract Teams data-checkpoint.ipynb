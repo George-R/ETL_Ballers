{
 "cells": [
  {
   "cell_type": "code",
   "execution_count": 1,
   "metadata": {},
   "outputs": [],
   "source": [
    "from basketball_reference_scraper.teams import get_roster, get_team_stats, get_opp_stats, get_roster_stats, get_team_misc"
   ]
  },
  {
   "cell_type": "code",
   "execution_count": 16,
   "metadata": {},
   "outputs": [],
   "source": []
  },
  {
   "cell_type": "code",
   "execution_count": 20,
   "metadata": {},
   "outputs": [],
   "source": [
    "f=open(\"Team_Name.txt\",\"r\")\n",
    "lines=f.readlines()\n",
    "result=[]\n",
    "for x in lines:\n",
    "    result.append(x.split(':')[1])\n",
    "f.close()"
   ]
  },
  {
   "cell_type": "code",
   "execution_count": 24,
   "metadata": {},
   "outputs": [
    {
     "data": {
      "text/plain": [
       "[' ATL\\n',\n",
       " ' SLH\\n',\n",
       " ' MIL\\n',\n",
       " ' TCB\\n',\n",
       " ' BOS\\n',\n",
       " ' BRK\\n',\n",
       " ' NJN\\n',\n",
       " ' CHI\\n',\n",
       " ' CHH\\n',\n",
       " ' CHO\\n',\n",
       " ' CHA\\n',\n",
       " ' CLE\\n',\n",
       " ' DAL\\n',\n",
       " ' DEN\\n',\n",
       " ' DET\\n',\n",
       " ' FWP\\n',\n",
       " ' GSW\\n',\n",
       " ' SFW\\n',\n",
       " ' PHI\\n',\n",
       " ' HOU\\n',\n",
       " ' IND\\n',\n",
       " ' LAC\\n',\n",
       " ' SDC\\n',\n",
       " ' BUF\\n',\n",
       " ' LAL\\n',\n",
       " ' MIN\\n',\n",
       " ' MEM\\n',\n",
       " ' VAN\\n',\n",
       " ' MIA\\n',\n",
       " ' MIL\\n',\n",
       " ' MIN\\n',\n",
       " ' NOP\\n',\n",
       " ' NOK\\n',\n",
       " ' NOH\\n',\n",
       " ' NYK\\n',\n",
       " ' OKC\\n',\n",
       " ' SEA\\n',\n",
       " ' ORL\\n',\n",
       " ' PHI\\n',\n",
       " ' SYR\\n',\n",
       " ' PHO\\n',\n",
       " ' POR\\n',\n",
       " ' SAC\\n',\n",
       " ' KCK\\n',\n",
       " ' KCK\\n',\n",
       " ' CIN\\n',\n",
       " ' ROR\\n',\n",
       " ' SAS\\n',\n",
       " ' TOR\\n',\n",
       " ' UTA\\n',\n",
       " ' NOJ\\n',\n",
       " ' WAS\\n',\n",
       " ' WAS\\n',\n",
       " ' CAP\\n',\n",
       " ' BAL\\n',\n",
       " ' CHI\\n',\n",
       " ' CHI\\n',\n",
       " ' AND\\n',\n",
       " ' CHI\\n',\n",
       " ' IND\\n',\n",
       " ' SRS\\n',\n",
       " ' SLB\\n',\n",
       " ' WAS\\n',\n",
       " ' WAT']"
      ]
     },
     "execution_count": 24,
     "metadata": {},
     "output_type": "execute_result"
    }
   ],
   "source": [
    "result\n"
   ]
  },
  {
   "cell_type": "code",
   "execution_count": null,
   "metadata": {},
   "outputs": [],
   "source": []
  }
 ],
 "metadata": {
  "kernelspec": {
   "display_name": "Python 3",
   "language": "python",
   "name": "python3"
  },
  "language_info": {
   "codemirror_mode": {
    "name": "ipython",
    "version": 3
   },
   "file_extension": ".py",
   "mimetype": "text/x-python",
   "name": "python",
   "nbconvert_exporter": "python",
   "pygments_lexer": "ipython3",
   "version": "3.7.6"
  }
 },
 "nbformat": 4,
 "nbformat_minor": 4
}
