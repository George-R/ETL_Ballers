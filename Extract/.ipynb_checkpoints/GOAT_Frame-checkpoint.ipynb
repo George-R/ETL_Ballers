{
 "cells": [
  {
   "cell_type": "code",
   "execution_count": 7,
   "metadata": {},
   "outputs": [],
   "source": [
    "#GOAT debate\n",
    "#basketball reference scraping library\n",
    "\n",
    "from basketball_reference_scraper.teams import get_roster, get_team_stats, get_opp_stats, get_roster_stats, get_team_misc\n",
    "from basketball_reference_scraper.seasons import get_schedule, get_standings\n",
    "from basketball_reference_scraper.players import get_stats\n",
    "\n"
   ]
  },
  {
   "cell_type": "code",
   "execution_count": 8,
   "metadata": {},
   "outputs": [
    {
     "ename": "NameError",
     "evalue": "name 'get_stats' is not defined",
     "output_type": "error",
     "traceback": [
      "\u001b[1;31m---------------------------------------------------------------------------\u001b[0m",
      "\u001b[1;31mNameError\u001b[0m                                 Traceback (most recent call last)",
      "\u001b[1;32m<ipython-input-8-ad0b80b66366>\u001b[0m in \u001b[0;36m<module>\u001b[1;34m\u001b[0m\n\u001b[0;32m      1\u001b[0m \u001b[1;31m#get playoff stats for LeBron, Kareem and Jordan.\u001b[0m\u001b[1;33m\u001b[0m\u001b[1;33m\u001b[0m\u001b[1;33m\u001b[0m\u001b[0m\n\u001b[0;32m      2\u001b[0m \u001b[1;33m\u001b[0m\u001b[0m\n\u001b[1;32m----> 3\u001b[1;33m \u001b[0mdf_jordan\u001b[0m \u001b[1;33m=\u001b[0m \u001b[0mget_stats\u001b[0m\u001b[1;33m(\u001b[0m\u001b[1;34m'Michael Jordan'\u001b[0m\u001b[1;33m,\u001b[0m \u001b[0mstat_type\u001b[0m\u001b[1;33m=\u001b[0m\u001b[1;34m'PER_GAME'\u001b[0m\u001b[1;33m,\u001b[0m \u001b[0mplayoffs\u001b[0m\u001b[1;33m=\u001b[0m\u001b[1;32mTrue\u001b[0m\u001b[1;33m,\u001b[0m \u001b[0mcareer\u001b[0m\u001b[1;33m=\u001b[0m\u001b[1;32mFalse\u001b[0m\u001b[1;33m)\u001b[0m\u001b[1;33m\u001b[0m\u001b[1;33m\u001b[0m\u001b[0m\n\u001b[0m\u001b[0;32m      4\u001b[0m \u001b[0mdf_james\u001b[0m \u001b[1;33m=\u001b[0m \u001b[0mget_stats\u001b[0m\u001b[1;33m(\u001b[0m\u001b[1;34m'LeBron James'\u001b[0m\u001b[1;33m,\u001b[0m \u001b[0mstat_type\u001b[0m\u001b[1;33m=\u001b[0m\u001b[1;34m'PER_GAME'\u001b[0m\u001b[1;33m,\u001b[0m \u001b[0mplayoffs\u001b[0m\u001b[1;33m=\u001b[0m\u001b[1;32mTrue\u001b[0m\u001b[1;33m,\u001b[0m \u001b[0mcareer\u001b[0m\u001b[1;33m=\u001b[0m\u001b[1;32mFalse\u001b[0m\u001b[1;33m)\u001b[0m\u001b[1;33m\u001b[0m\u001b[1;33m\u001b[0m\u001b[0m\n\u001b[0;32m      5\u001b[0m \u001b[0mdf_kareem\u001b[0m \u001b[1;33m=\u001b[0m \u001b[0mget_stats\u001b[0m\u001b[1;33m(\u001b[0m\u001b[1;34m'Kareem Abdul-Jabbar'\u001b[0m\u001b[1;33m,\u001b[0m \u001b[0mstat_type\u001b[0m\u001b[1;33m=\u001b[0m\u001b[1;34m'PER_GAME'\u001b[0m\u001b[1;33m,\u001b[0m \u001b[0mplayoffs\u001b[0m\u001b[1;33m=\u001b[0m\u001b[1;32mTrue\u001b[0m\u001b[1;33m,\u001b[0m \u001b[0mcareer\u001b[0m\u001b[1;33m=\u001b[0m\u001b[1;32mFalse\u001b[0m\u001b[1;33m)\u001b[0m\u001b[1;33m\u001b[0m\u001b[1;33m\u001b[0m\u001b[0m\n",
      "\u001b[1;31mNameError\u001b[0m: name 'get_stats' is not defined"
     ]
    }
   ],
   "source": [
    "#get playoff stats for LeBron, Kareem and Jordan. \n",
    "\n",
    "df_jordan = get_stats('Michael Jordan', stat_type='PER_GAME', playoffs=True, career=False)\n",
    "df_james = get_stats('LeBron James', stat_type='PER_GAME', playoffs=True, career=False)\n",
    "df_kareem = get_stats('Kareem Abdul-Jabbar', stat_type='PER_GAME', playoffs=True, career=False)\n",
    "df_russel = get_stats('Bill Russel', stat_type='PER_GAME', playoffs=True, career=False)\n",
    "df_magic = get_stats('Magic Johnson', stat_type='PER_GAME', playoffs=True, career=False)\n",
    "df_bird = get_stats('Larry Bird', stat_type='PER_GAME', playoffs=True, career=False)\n",
    "df_russel = get_stats('Bill Russel', stat_type='PER_GAME', playoffs=True, career=False)\n",
    "\n",
    "\n"
   ]
  },
  {
   "cell_type": "code",
   "execution_count": 145,
   "metadata": {
    "scrolled": true
   },
   "outputs": [],
   "source": [
    "data_jordan = pd.DataFrame(df_jordan)\n",
    "data_james = pd.DataFrame(df_james)\n",
    "data_kareem = pd.DataFrame(df_kareem)\n"
   ]
  },
  {
   "cell_type": "code",
   "execution_count": 160,
   "metadata": {
    "scrolled": true
   },
   "outputs": [],
   "source": [
    "#data_jordan.insert(0, 'Name', 'Michael Jordan')\n",
    "#data_james.insert(0, 'Name', 'LeBron James')\n",
    "#data_kareem.insert(0, 'Name', 'Kareem Abdul-Jabbar')\n",
    "\n"
   ]
  },
  {
   "cell_type": "code",
   "execution_count": 165,
   "metadata": {},
   "outputs": [],
   "source": [
    "import os\n",
    "import requests\n",
    "from bs4 import BeautifulSoup as bs\n"
   ]
  },
  {
   "cell_type": "code",
   "execution_count": null,
   "metadata": {},
   "outputs": [],
   "source": []
  },
  {
   "cell_type": "code",
   "execution_count": null,
   "metadata": {},
   "outputs": [],
   "source": []
  },
  {
   "cell_type": "code",
   "execution_count": null,
   "metadata": {},
   "outputs": [],
   "source": []
  }
 ],
 "metadata": {
  "kernelspec": {
   "display_name": "Python 3",
   "language": "python",
   "name": "python3"
  },
  "language_info": {
   "codemirror_mode": {
    "name": "ipython",
    "version": 3
   },
   "file_extension": ".py",
   "mimetype": "text/x-python",
   "name": "python",
   "nbconvert_exporter": "python",
   "pygments_lexer": "ipython3",
   "version": "3.8.3"
  }
 },
 "nbformat": 4,
 "nbformat_minor": 4
}
