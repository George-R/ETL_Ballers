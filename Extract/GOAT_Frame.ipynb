{
 "cells": [
  {
   "cell_type": "code",
   "execution_count": 131,
   "metadata": {},
   "outputs": [],
   "source": [
    "#GOAT debate\n",
    "#basketball reference scraping library\n",
    "\n",
    "from basketball_reference_scraper.teams import get_roster, get_team_stats, get_opp_stats, get_roster_stats, get_team_misc\n",
    "from basketball_reference_scraper.seasons import get_schedule, get_standings\n",
    "from basketball_reference_scraper.teams import get_roster, get_team_stats, get_opp_stats, get_roster_stats, get_team_misc\n",
    "\n"
   ]
  },
  {
   "cell_type": "code",
   "execution_count": 143,
   "metadata": {},
   "outputs": [],
   "source": [
    "#get playoff stats for LeBron, Kareem and Jordan. \n",
    "\n",
    "df_jordan = get_stats('Michael Jordan', stat_type='PER_GAME', playoffs=True, career=False)\n",
    "df_james = get_stats('LeBron James', stat_type='PER_GAME', playoffs=True, career=False)\n",
    "df_kareem = get_stats('Kareem Abdul-Jabbar', stat_type='PER_GAME', playoffs=True, career=False)"
   ]
  },
  {
   "cell_type": "code",
   "execution_count": 145,
   "metadata": {
    "scrolled": true
   },
   "outputs": [],
   "source": [
    "data_jordan = pd.DataFrame(df_jordan)\n",
    "data_james = pd.DataFrame(df_james)\n",
    "data_kareem = pd.DataFrame(df_kareem)\n"
   ]
  },
  {
   "cell_type": "code",
   "execution_count": 160,
   "metadata": {
    "scrolled": true
   },
   "outputs": [],
   "source": [
    "#data_jordan.insert(0, 'Name', 'Michael Jordan')\n",
    "#data_james.insert(0, 'Name', 'LeBron James')\n",
    "#data_kareem.insert(0, 'Name', 'Kareem Abdul-Jabbar')\n",
    "\n"
   ]
  },
  {
   "cell_type": "code",
   "execution_count": 165,
   "metadata": {},
   "outputs": [],
   "source": [
    "import os\n",
    "import requests\n",
    "from bs4 import BeautifulSoup as bs\n"
   ]
  },
  {
   "cell_type": "code",
   "execution_count": null,
   "metadata": {},
   "outputs": [],
   "source": []
  },
  {
   "cell_type": "code",
   "execution_count": null,
   "metadata": {},
   "outputs": [],
   "source": []
  },
  {
   "cell_type": "code",
   "execution_count": null,
   "metadata": {},
   "outputs": [],
   "source": []
  }
 ],
 "metadata": {
  "kernelspec": {
   "display_name": "Python 3",
   "language": "python",
   "name": "python3"
  },
  "language_info": {
   "codemirror_mode": {
    "name": "ipython",
    "version": 3
   },
   "file_extension": ".py",
   "mimetype": "text/x-python",
   "name": "python",
   "nbconvert_exporter": "python",
   "pygments_lexer": "ipython3",
   "version": "3.8.3"
  }
 },
 "nbformat": 4,
 "nbformat_minor": 4
}
